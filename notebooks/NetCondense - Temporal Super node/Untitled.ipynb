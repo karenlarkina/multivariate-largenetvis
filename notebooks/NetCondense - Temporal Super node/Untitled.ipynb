{
 "cells": [
  {
   "cell_type": "code",
   "execution_count": 1,
   "metadata": {},
   "outputs": [
    {
     "name": "stdout",
     "output_type": "stream",
     "text": [
      "Check usage\n",
      "-f\n",
      "netowrk size is : #node = 34 #time-stamp = 5\n",
      "start merging\n",
      "1nodes merged  : time elapsed 5.880000026081689e-05\n",
      "Mering time 3  and  4  0times merged  : time elapsed 0.0002195999986724928\n",
      "2nodes merged  : time elapsed 7.329999971261714e-05\n",
      "3nodes merged  : time elapsed 6.229999962670263e-05\n",
      "4nodes merged  : time elapsed 7.240000013553072e-05\n",
      "5nodes merged  : time elapsed 8.450000132143032e-05\n",
      "6nodes merged  : time elapsed 7.200000072771218e-05\n",
      "7nodes merged  : time elapsed 0.0001312000003963476\n",
      "8nodes merged  : time elapsed 7.569999979750719e-05\n",
      "9nodes merged  : time elapsed 7.499999992433004e-05\n",
      "10nodes merged  : time elapsed 7.089999962772708e-05\n",
      "11nodes merged  : time elapsed 7.539999933214858e-05\n",
      "12nodes merged  : time elapsed 8.489999891025946e-05\n",
      "Mering time 2  and  3  1times merged  : time elapsed 0.0001857999995991122\n",
      "13nodes merged  : time elapsed 8.410000009462237e-05\n",
      "14nodes merged  : time elapsed 9.679999857326038e-05\n",
      "15nodes merged  : time elapsed 9.28999997995561e-05\n",
      "16nodes merged  : time elapsed 5.1300001359777525e-05\n",
      "17nodes merged  : time elapsed 0.00016000000141502824\n",
      "18nodes merged  : time elapsed 0.00010370000018156134\n",
      "19nodes merged  : time elapsed 0.00011240000094403513\n",
      "20nodes merged  : time elapsed 0.00011790000098699238\n",
      "21nodes merged  : time elapsed 9.099999988393392e-05\n",
      "22nodes merged  : time elapsed 5.6599999879836105e-05\n",
      "23nodes merged  : time elapsed 7.059999916236848e-05\n",
      "24nodes merged  : time elapsed 0.00011550000090210233\n",
      "Mering time 2  and  5  2times merged  : time elapsed 0.00014480000027106144\n",
      "Mering time 1  and  2  3times merged  : time elapsed 9.510000018053688e-05\n",
      "25nodes merged  : time elapsed 5.919999966863543e-05\n",
      "26nodes merged  : time elapsed 0.0005130999998073094\n",
      "27nodes merged  : time elapsed 0.00045529999988502823\n",
      "28nodes merged  : time elapsed 5.330000021785963e-05\n",
      "29nodes merged  : time elapsed 3.479999941191636e-05\n",
      "30nodes merged  : time elapsed 3.0199998946045525e-05\n",
      "31nodes merged  : time elapsed 3.380000089237001e-05\n",
      "0.2440018653869629\n"
     ]
    }
   ],
   "source": [
    "# -*- coding: utf-8 -*-\n",
    "\"\"\"\n",
    "Created on Tue Jun  7 11:21:25 2016\n",
    "\n",
    "@author: Bijaya Adhikari\n",
    "\"\"\"\n",
    "\n",
    "import sys\n",
    "import time\n",
    "import subprocess\n",
    "\n",
    "from merge import netCondenseRoutine\n",
    "\n",
    "\n",
    "\n",
    "if len(sys.argv)!=5:\n",
    "    print('Check usage')\n",
    "    \n",
    "print(sys.argv[1])\n",
    "    \n",
    "pathToFile = \"example/toy\"\n",
    "alphaN = \"0.9\" #Valor de 0 a 1, quanto maior o valor, maior a compactacao, default: 0.9\n",
    "alphaT = \"0.7\" #Valor de 0 a 1, quanto maior o valor, maior a compactacao, default: 0.5\n",
    "matlab_path= \"d:/MATLAB/R2021a/bin/matlab\"\n",
    "t1=time.time()\n",
    "\n",
    "\n",
    "scoringFunction=\"getScores('\"+pathToFile+\"')\"\n",
    "subprocess.call([matlab_path,\"-nosplash\",\"-nojvm\",\"-r\", scoringFunction])\n",
    "\n",
    "netCondenseRoutine(pathToFile, float(alphaN), float(alphaT), pathToFile+'_edgeScores', pathToFile+'_timeScores')\n",
    "\n",
    "t2 = time.time()\n",
    "\n",
    "print(t2-t1)\n",
    "\n",
    "\n",
    "\n",
    "    \n",
    "\n"
   ]
  },
  {
   "cell_type": "code",
   "execution_count": null,
   "metadata": {},
   "outputs": [],
   "source": []
  }
 ],
 "metadata": {
  "kernelspec": {
   "display_name": "Python 3",
   "language": "python",
   "name": "python3"
  },
  "language_info": {
   "codemirror_mode": {
    "name": "ipython",
    "version": 3
   },
   "file_extension": ".py",
   "mimetype": "text/x-python",
   "name": "python",
   "nbconvert_exporter": "python",
   "pygments_lexer": "ipython3",
   "version": "3.7.3"
  }
 },
 "nbformat": 4,
 "nbformat_minor": 2
}
