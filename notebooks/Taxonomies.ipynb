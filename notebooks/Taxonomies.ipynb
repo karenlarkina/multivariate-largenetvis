{
 "cells": [
  {
   "cell_type": "code",
   "execution_count": 1,
   "metadata": {},
   "outputs": [],
   "source": [
    "import networkx as nx\n",
    "\n",
    "#Implementação do artigo \n",
    "#Module-based visualization of large-scale graph network data, 2017, Journal of Visualization\n",
    "\n",
    "#Module Detection = 5 options\n",
    "#tree-connection, concentration, circular, low-connectivity, and full-connectivity.\n",
    "\n",
    "##Tree-connection:\n",
    "#The tree-connection pattern indicates that the graph is extended from a node and that some children of the root still contain the children.\n",
    "\n",
    "#https://networkx.org/documentation/stable/reference/algorithms/tree.html?highlight=tree\n",
    "\n",
    "#print('is tree: ',nx.is_tree(G))\n",
    "\n",
    "#print('is forest: ',nx.is_forest(G))\n",
    "\n",
    "#print(nx.is_arborescence(G)) #only for directed networks\n",
    "\n",
    "#print(nx.is_branching(G)) #only for directed networks\n",
    "\n",
    "#Concentration:\n",
    "#The concentration pattern indicates that all children nodes are connected to the root and that each child does not have other connections.\n",
    "\n",
    "#print('is tree: ',nx.is_tree(G))\n",
    "\n",
    "#Circular:\n",
    "#The circular pattern indicates that each node in the graph only has two links. \n",
    "\n",
    "#print(nx.find_cycle(G))\n",
    "#print(len(nx.find_cycle(G)))\n",
    "\n",
    "def has_cycle(G):\n",
    "    if len(nx.find_cycle(G)) > 0:\n",
    "        return True\n",
    "    else:\n",
    "        return False\n",
    "        \n",
    "\n",
    "def is_circular(G):\n",
    "    n = len(G.nodes())\n",
    "    c = len(nx.find_cycle(G))\n",
    "    if (c > 0) & (c == n):\n",
    "        return True\n",
    "    else:\n",
    "        return False\n",
    "        \n",
    "        \n",
    "#print('has cycles: ',has_cycle(G))\n",
    "\n",
    "#Example of circular graph\n",
    "#G = nx.Graph()\n",
    "#G.add_edges_from([(1, 2), (2, 3), (3, 4), (4, 1)])\n",
    "\n",
    "#print('is circular: ',is_circular(G))\n",
    "\n",
    "\n",
    "#Full-connectivity:\n",
    "#The full-connectivity pattern is a complete graph. \n",
    "\n",
    "def is_complete(G):\n",
    "    n = len(G.nodes())\n",
    "    e = len(G.edges())\n",
    "    \n",
    "    #n(n-1)/2, where n = number of nodes\n",
    "    formula = n * (n-1)/2\n",
    "    \n",
    "    if e == formula:\n",
    "        return True;\n",
    "    else:\n",
    "        return False;\n",
    "    \n",
    "#Example of complete graph\n",
    "#G = nx.complete_graph(100)\n",
    "\n",
    "#print('is complete: ',is_complete(G))\n",
    "\n",
    "#Low-connectivity:\n",
    "#The remaining structure of the graph will be classified as a low-connectivity pattern.\n",
    "\n",
    "def is_low_connectivity(G):\n",
    "    if ~is_complete_graph(G) & ~is_circular(G) & ~nx.is_tree(G) & ~nx.is_forest(G):\n",
    "        return True\n",
    "    else:\n",
    "        return False\n",
    "    \n",
    "#print('is low connectivity: ',is_low_connectivity(G))\n",
    "\n",
    "\n",
    "def is_star(G):\n",
    "    if nx.is_tree(G):\n",
    "        a = [x for x in G.nodes() if G.degree(x)==1]\n",
    "        if len(a) == (len(G.nodes())-1):\n",
    "            return True\n",
    "        else:\n",
    "            return False\n",
    "    else:\n",
    "        return False\n",
    "\n",
    "\n",
    "def graph_topology(G):\n",
    "    if is_star(G):\n",
    "        return 'star'\n",
    "    elif nx.is_tree(G):\n",
    "        return 'tree'\n",
    "    elif nx.is_forest(G):\n",
    "        return 'forest'\n",
    "    elif is_circular(G):\n",
    "        return 'circular'\n",
    "    elif is_complete(G):\n",
    "        return 'complete'\n",
    "    else:\n",
    "        return 'low_connectivity'"
   ]
  },
  {
   "cell_type": "code",
   "execution_count": 3,
   "metadata": {},
   "outputs": [],
   "source": [
    "#G = nx.Graph()\n",
    "#G.add_edges_from([(1, 2), (2, 3), (3, 4), (4, 1)])\n",
    "\n",
    "#G = nx.complete_graph(100)\n",
    "\n",
    "#Pattern detection via k-clustering\n",
    "\n",
    "#By following the pattern design, we can denote\n",
    "\n",
    "#https://latex.codecogs.com/eqneditor/editor.php\n",
    "#\\alpha = \\frac{\\max(e_i)}{\\sum e_i}, \n",
    "#\\beta = \\frac{count(e_i=2)}{n}, \n",
    "#\\delta = \\frac{1}{n}count(e_i > \\frac{n}{2}), \n",
    "#where e_i denotes the neighbor count of node i and n denotes the node count of the module. \n",
    "\n",
    "import statistics\n",
    "\n",
    "def graph_feature_vector(G):\n",
    "\n",
    "    x = []\n",
    "    y = []\n",
    "    z = []\n",
    "    for i in G.nodes():\n",
    "\n",
    "        e = list(G.neighbors(i))\n",
    "\n",
    "        e_i = len(list(G.neighbors(i)))\n",
    "        n = len(G.nodes())\n",
    "\n",
    "\n",
    "        #from sympy import *\n",
    "        #x = symbols('x')\n",
    "\n",
    "        alpha = round(max(e)/sum(e),2)\n",
    "\n",
    "        #print('alpha',round(alpha,2))\n",
    "\n",
    "        count = 0\n",
    "        for ee in e:\n",
    "            #print(len(list(G.neighbors(ee))), (n/2))\n",
    "            if len(list(G.neighbors(ee))) == 2:\n",
    "                count = count + 1\n",
    "\n",
    "        beta = count / n\n",
    "\n",
    "        #print('beta',beta)\n",
    "\n",
    "        count = 0\n",
    "        for ee in e:\n",
    "            if len(list(G.neighbors(ee))) > (n/2):\n",
    "                count = count + 1\n",
    "\n",
    "        delta = (1/n) * count \n",
    "\n",
    "        a=[alpha,beta,delta]\n",
    "        x.append(a[0])\n",
    "        y.append(a[1])\n",
    "        z.append(a[2])\n",
    "\n",
    "    mean_x = round(statistics.mean(x),2)\n",
    "    mean_y = round(statistics.mean(y),2)\n",
    "    mean_z = round(statistics.mean(z),2)\n",
    "\n",
    "    return [mean_x,mean_y,mean_z]"
   ]
  },
  {
   "cell_type": "code",
   "execution_count": 4,
   "metadata": {},
   "outputs": [
    {
     "name": "stdout",
     "output_type": "stream",
     "text": [
      "circular [0.71, 0.5, 0.0]\n",
      "complete [0.02, 0.0, 0.99]\n",
      "star [0.88, 0.0, 0.16]\n",
      "tree [0.81, 0.24, 0.0]\n",
      "forest [0.8, 0.12, 0.0]\n",
      "low_connectivity [0.11, 0.0, 0.0]\n"
     ]
    }
   ],
   "source": [
    "#G=nx.MultiGraph()\n",
    "list_features = []\n",
    "\n",
    "G = nx.Graph()\n",
    "G.add_edges_from([(1, 2), (2, 3), (3, 4), (4, 1)])\n",
    "\n",
    "print(graph_topology(G),graph_feature_vector(G))\n",
    "#list_features.append(graph_feature_vector(G))\n",
    "\n",
    "G = nx.complete_graph(100)\n",
    "\n",
    "print(graph_topology(G),graph_feature_vector(G))\n",
    "#list_features.append(graph_feature_vector(G))\n",
    "\n",
    "G = nx.Graph()\n",
    "G.add_edges_from([(1, 5), (2, 5), (3, 5), (4, 5)])\n",
    "\n",
    "print(graph_topology(G),graph_feature_vector(G))\n",
    "#list_features.append(graph_feature_vector(G))\n",
    "\n",
    "G = nx.Graph()\n",
    "G.add_edges_from([(1, 2), (2, 3), (3, 4), (4, 5)])\n",
    "\n",
    "print(graph_topology(G),graph_feature_vector(G))\n",
    "#list_features.append(graph_feature_vector(G))\n",
    "\n",
    "G = nx.Graph()\n",
    "G.add_edges_from([(6, 7),(7, 8),(8, 9), (1, 2), (2, 3), (3, 4), (4, 5)])\n",
    "\n",
    "print(graph_topology(G),graph_feature_vector(G))\n",
    "#list_features.append(graph_feature_vector(G))\n",
    "\n",
    "G = nx.fast_gnp_random_graph(100, 0.2,1,False)\n",
    "\n",
    "print(graph_topology(G),graph_feature_vector(G))\n",
    "#list_features.append(graph_feature_vector(G))\n",
    "\n",
    "#codigo de networkX para hypergraph\n",
    "#https://github.com/pnnl/HyperNetX/blob/master/hypernetx/classes/hypergraph.py\n"
   ]
  },
  {
   "cell_type": "code",
   "execution_count": 24,
   "metadata": {},
   "outputs": [
    {
     "data": {
      "text/plain": [
       "[[0.71, 0.5, 0.0],\n",
       " [0.02, 0.0, 0.99],\n",
       " [0.88, 0.0, 0.16],\n",
       " [0.81, 0.24, 0.0],\n",
       " [0.8, 0.12, 0.0],\n",
       " [0.11, 0.0, 0.0]]"
      ]
     },
     "execution_count": 24,
     "metadata": {},
     "output_type": "execute_result"
    }
   ],
   "source": [
    "list_features"
   ]
  },
  {
   "cell_type": "code",
   "execution_count": 6,
   "metadata": {},
   "outputs": [],
   "source": [
    "#Temporal taxonomy\n",
    "#Activity Frequency - Sporadic or Continuous\n",
    "#To distinguish these scenarios, the time interval of the network ( T Final −T Initial ) is divided into sub-intervals of length S_I .\n",
    "#If at least one of these intervals has no edges, the community has sporadic activity.\n",
    "\n",
    "#If all intervals have at least one edge each, the community is classified as having continuous activity.\n",
    "\n",
    "#S_I= Global average considering the time interval between two consecutive connections in each community\n",
    "\n",
    "import statistics\n",
    "import math\n",
    "\n",
    "def get_timestamps(G):\n",
    "    edges=sorted(G.edges(data='t'), key=lambda t: t[2])\n",
    "    timestamp_list = []\n",
    "    for e in edges:\n",
    "        timestamp_list.append(e[2])\n",
    "        \n",
    "    return timestamp_list\n",
    "      \n",
    "#t_m is an optional parameter to divide timestamps\n",
    "def time_frequency(G,t_m=-1):\n",
    "    t_list = get_timestamps(G)\n",
    "    if t_m == -1:\n",
    "        t_m = round(statistics.mean(t_list))\n",
    "        #print('t_m:',t_m)\n",
    "    div = math.ceil((max(t_list) - min(t_list)) / t_m)    \n",
    "    min_t = min(t_list)\n",
    "    max_t = t_m\n",
    "    x = 0\n",
    "    while x < div:\n",
    "        a = [i for i in t_list if (i >= min_t) & (i < max_t) ]\n",
    "        #print(a)\n",
    "        if len(a) == 0:\n",
    "            return 'sporadic'\n",
    "        min_t = max_t\n",
    "        max_t = max_t + t_m\n",
    "        x = x+1\n",
    "    return 'continuous'\n",
    "\n",
    "\n",
    "\n",
    "\n",
    "#Activity Dispersion - Dispersed or Grouped\n",
    "#Suggestion: Activity Dispersion - Burst or Dispersed (?) Peak or Valley (?)\n",
    "#A community has grouped activity if the majority of consecutive edges is too close to each other (according to a threshold T_dg ),\n",
    "#or has dispersed activity otherwise.\n",
    "#T_dg = The most frequent median time interval between two consecutive connections (mode of the medians)\n",
    "\n",
    "from statistics import mean\n",
    "from statistics import mode\n",
    "from statistics import median\n",
    "\n",
    "#Tem que existir muitas arestas juntas consecutivamente\n",
    "\n",
    "def calculate_dispersion(G):\n",
    "    t_list = get_timestamps(G)\n",
    "    i = -1\n",
    "    time_interval = []\n",
    "    for t in t_list:\n",
    "        if i == -1:\n",
    "            i = t\n",
    "        else:\n",
    "            time_interval.append(t-i)\n",
    "            i=t\n",
    "            \n",
    "    #print(time_interval)\n",
    "    tdg = round(mode(time_interval))\n",
    "    t_h = 0.3\n",
    "    #print('mode',tdg)\n",
    "    \n",
    "    consecutive_interval_value = math.ceil(len(t_list) * t_h) #quantidade de instantes de tempo consecutivos que tem que ter pouco intervalo\n",
    "\n",
    "    #print('consecutive_interval_value',consecutive_interval_value)\n",
    "    \n",
    "    count=0\n",
    "    for i in time_interval:\n",
    "        if count == consecutive_interval_value:\n",
    "            return 'grouped'\n",
    "        if i <= tdg:\n",
    "            count = count+1\n",
    "        else:\n",
    "            count = 0\n",
    "    \n",
    "    return 'dispersed'\n",
    "    \n",
    "    \n",
    "    #a = [i for i in time_interval if i < tdg ]\n",
    "    #if (len(a) / len(time_interval)) < t_h:\n",
    "        #return 'grouped'\n",
    "    #else:\n",
    "        #return 'dispersed'"
   ]
  },
  {
   "cell_type": "code",
   "execution_count": 7,
   "metadata": {},
   "outputs": [
    {
     "name": "stdout",
     "output_type": "stream",
     "text": [
      "continuous dispersed\n",
      "sporadic dispersed\n",
      "sporadic grouped\n",
      "continuous grouped\n"
     ]
    }
   ],
   "source": [
    "#TEMPORAL NETWORKS\n",
    "G = nx.MultiGraph()\n",
    "G.add_edge(1,2,t=0)\n",
    "G.add_edge(2,3,t=0)\n",
    "G.add_edge(3,4,t=10)\n",
    "G.add_edge(4,1,t=10)\n",
    "G.add_edge(1,2,t=15)\n",
    "G.add_edge(4,5,t=15)\n",
    "G.add_edge(6,7,t=21)\n",
    "\n",
    "print(time_frequency(G),calculate_dispersion(G))\n",
    "\n",
    "G = nx.MultiGraph()\n",
    "G.add_edge(1,2,t=0)\n",
    "G.add_edge(2,3,t=0)\n",
    "G.add_edge(3,4,t=10)\n",
    "G.add_edge(4,1,t=10)\n",
    "G.add_edge(1,2,t=15)\n",
    "G.add_edge(4,5,t=15)\n",
    "G.add_edge(6,7,t=21)\n",
    "G.add_edge(6,1,t=50)\n",
    "\n",
    "print(time_frequency(G),calculate_dispersion(G))\n",
    "\n",
    "G = nx.MultiGraph()\n",
    "G.add_edge(1,2,t=0)\n",
    "G.add_edge(2,3,t=0)\n",
    "G.add_edge(3,4,t=1)\n",
    "G.add_edge(4,1,t=2)\n",
    "G.add_edge(1,2,t=3)\n",
    "G.add_edge(4,5,t=15)\n",
    "G.add_edge(6,7,t=21)\n",
    "\n",
    "print(time_frequency(G),calculate_dispersion(G))\n",
    "\n",
    "\n",
    "G = nx.MultiGraph()\n",
    "G.add_edge(1,2,t=0)\n",
    "G.add_edge(2,3,t=2)\n",
    "G.add_edge(3,4,t=4)\n",
    "G.add_edge(4,1,t=6)\n",
    "G.add_edge(1,2,t=8)\n",
    "G.add_edge(4,5,t=12)\n",
    "\n",
    "print(time_frequency(G),calculate_dispersion(G))"
   ]
  },
  {
   "cell_type": "code",
   "execution_count": 3,
   "metadata": {},
   "outputs": [
    {
     "name": "stdout",
     "output_type": "stream",
     "text": [
      "Requirement already satisfied: matplotlib in c:\\anaconda\\lib\\site-packages (3.0.3)\n",
      "Requirement already satisfied: numpy in c:\\anaconda\\lib\\site-packages (1.16.5)\n",
      "Requirement already satisfied: pandas in c:\\users\\claudio linhares\\appdata\\roaming\\python\\python37\\site-packages (0.25.3)\n",
      "Requirement already satisfied: seaborn in c:\\anaconda\\lib\\site-packages (0.9.0)\n",
      "Requirement already satisfied: scikit-learn in c:\\anaconda\\lib\\site-packages (0.20.3)\n",
      "Requirement already satisfied: ipython in c:\\anaconda\\lib\\site-packages (7.4.0)\n",
      "Requirement already satisfied: cycler>=0.10 in c:\\anaconda\\lib\\site-packages (from matplotlib) (0.10.0)\n",
      "Requirement already satisfied: kiwisolver>=1.0.1 in c:\\anaconda\\lib\\site-packages (from matplotlib) (1.0.1)\n",
      "Requirement already satisfied: pyparsing!=2.0.4,!=2.1.2,!=2.1.6,>=2.0.1 in c:\\anaconda\\lib\\site-packages (from matplotlib) (2.3.1)\n",
      "Requirement already satisfied: python-dateutil>=2.1 in c:\\anaconda\\lib\\site-packages (from matplotlib) (2.8.0)\n",
      "Requirement already satisfied: pytz>=2017.2 in c:\\anaconda\\lib\\site-packages (from pandas) (2018.9)\n",
      "Requirement already satisfied: scipy>=0.14.0 in c:\\anaconda\\lib\\site-packages (from seaborn) (1.2.1)\n",
      "Requirement already satisfied: traitlets>=4.2 in c:\\anaconda\\lib\\site-packages (from ipython) (4.3.2)\n",
      "Requirement already satisfied: jedi>=0.10 in c:\\anaconda\\lib\\site-packages (from ipython) (0.13.3)\n",
      "Requirement already satisfied: decorator in c:\\anaconda\\lib\\site-packages (from ipython) (4.4.0)\n",
      "Requirement already satisfied: pickleshare in c:\\anaconda\\lib\\site-packages (from ipython) (0.7.5)\n",
      "Requirement already satisfied: colorama; sys_platform == \"win32\" in c:\\anaconda\\lib\\site-packages (from ipython) (0.4.1)\n",
      "Requirement already satisfied: setuptools>=18.5 in c:\\anaconda\\lib\\site-packages (from ipython) (40.8.0)\n",
      "Requirement already satisfied: pygments in c:\\anaconda\\lib\\site-packages (from ipython) (2.3.1)\n",
      "Requirement already satisfied: prompt-toolkit<2.1.0,>=2.0.0 in c:\\anaconda\\lib\\site-packages (from ipython) (2.0.9)\n",
      "Requirement already satisfied: backcall in c:\\anaconda\\lib\\site-packages (from ipython) (0.1.0)\n",
      "Requirement already satisfied: six in c:\\anaconda\\lib\\site-packages (from cycler>=0.10->matplotlib) (1.12.0)\n",
      "Requirement already satisfied: ipython-genutils in c:\\anaconda\\lib\\site-packages (from traitlets>=4.2->ipython) (0.2.0)\n",
      "Requirement already satisfied: parso>=0.3.0 in c:\\anaconda\\lib\\site-packages (from jedi>=0.10->ipython) (0.3.4)\n",
      "Requirement already satisfied: wcwidth in c:\\anaconda\\lib\\site-packages (from prompt-toolkit<2.1.0,>=2.0.0->ipython) (0.1.7)\n",
      "Note: you may need to restart the kernel to use updated packages.\n"
     ]
    }
   ],
   "source": [
    "pip install matplotlib numpy pandas seaborn scikit-learn ipython"
   ]
  },
  {
   "cell_type": "code",
   "execution_count": 6,
   "metadata": {},
   "outputs": [
    {
     "name": "stdout",
     "output_type": "stream",
     "text": [
      "Collecting kneed\n",
      "  Downloading https://files.pythonhosted.org/packages/c3/6b/e130913aaaad1373060e259ab222ca2330672db696b297b082c3f3089fcc/kneed-0.7.0-py2.py3-none-any.whl\n",
      "Requirement already satisfied: scipy in c:\\anaconda\\lib\\site-packages (from kneed) (1.2.1)\n",
      "Requirement already satisfied: matplotlib in c:\\anaconda\\lib\\site-packages (from kneed) (3.0.3)\n",
      "Requirement already satisfied: numpy>=1.14.2 in c:\\anaconda\\lib\\site-packages (from kneed) (1.16.5)\n",
      "Requirement already satisfied: cycler>=0.10 in c:\\anaconda\\lib\\site-packages (from matplotlib->kneed) (0.10.0)\n",
      "Requirement already satisfied: kiwisolver>=1.0.1 in c:\\anaconda\\lib\\site-packages (from matplotlib->kneed) (1.0.1)\n",
      "Requirement already satisfied: pyparsing!=2.0.4,!=2.1.2,!=2.1.6,>=2.0.1 in c:\\anaconda\\lib\\site-packages (from matplotlib->kneed) (2.3.1)\n",
      "Requirement already satisfied: python-dateutil>=2.1 in c:\\anaconda\\lib\\site-packages (from matplotlib->kneed) (2.8.0)\n",
      "Requirement already satisfied: six in c:\\anaconda\\lib\\site-packages (from cycler>=0.10->matplotlib->kneed) (1.12.0)\n",
      "Requirement already satisfied: setuptools in c:\\anaconda\\lib\\site-packages (from kiwisolver>=1.0.1->matplotlib->kneed) (40.8.0)\n",
      "Installing collected packages: kneed\n",
      "Successfully installed kneed-0.7.0\n",
      "Note: you may need to restart the kernel to use updated packages.\n"
     ]
    }
   ],
   "source": [
    "pip install kneed"
   ]
  },
  {
   "cell_type": "code",
   "execution_count": 10,
   "metadata": {},
   "outputs": [],
   "source": [
    "#K-Means Clustering\n",
    "#https://realpython.com/k-means-clustering-python/\n",
    "\n",
    "import matplotlib.pyplot as plt\n",
    "from kneed import KneeLocator\n",
    "from sklearn.datasets import make_blobs\n",
    "from sklearn.cluster import KMeans\n",
    "from sklearn.metrics import silhouette_score\n",
    "from sklearn.preprocessing import StandardScaler\n",
    "\n",
    "features, true_labels = make_blobs(\n",
    "    n_samples=200,\n",
    "    centers=3,\n",
    "    cluster_std=2.75,\n",
    "    random_state=42\n",
    ")"
   ]
  },
  {
   "cell_type": "code",
   "execution_count": 11,
   "metadata": {},
   "outputs": [
    {
     "data": {
      "text/plain": [
       "array([[  9.77075874,   3.27621022],\n",
       "       [ -9.71349666,  11.27451802],\n",
       "       [ -6.91330582,  -9.34755911],\n",
       "       [-10.86185913, -10.75063497],\n",
       "       [ -8.50038027,  -4.54370383]])"
      ]
     },
     "execution_count": 11,
     "metadata": {},
     "output_type": "execute_result"
    }
   ],
   "source": [
    "features[:5]"
   ]
  },
  {
   "cell_type": "code",
   "execution_count": 12,
   "metadata": {},
   "outputs": [
    {
     "data": {
      "text/plain": [
       "array([1, 0, 2, 2, 2])"
      ]
     },
     "execution_count": 12,
     "metadata": {},
     "output_type": "execute_result"
    }
   ],
   "source": [
    "true_labels[:5]"
   ]
  },
  {
   "cell_type": "code",
   "execution_count": 13,
   "metadata": {},
   "outputs": [
    {
     "data": {
      "text/plain": [
       "array([[ 2.13082109,  0.25604351],\n",
       "       [-1.52698523,  1.41036744],\n",
       "       [-1.00130152, -1.56583175],\n",
       "       [-1.74256891, -1.76832509],\n",
       "       [-1.29924521, -0.87253446]])"
      ]
     },
     "execution_count": 13,
     "metadata": {},
     "output_type": "execute_result"
    }
   ],
   "source": [
    "scaler = StandardScaler()\n",
    "scaled_features = scaler.fit_transform(features)\n",
    "\n",
    "scaled_features[:5]"
   ]
  },
  {
   "cell_type": "code",
   "execution_count": 14,
   "metadata": {},
   "outputs": [
    {
     "data": {
      "text/plain": [
       "KMeans(algorithm='auto', copy_x=True, init='random', max_iter=300,\n",
       "    n_clusters=6, n_init=10, n_jobs=None, precompute_distances='auto',\n",
       "    random_state=42, tol=0.0001, verbose=0)"
      ]
     },
     "execution_count": 14,
     "metadata": {},
     "output_type": "execute_result"
    }
   ],
   "source": [
    "kmeans = KMeans(\n",
    "    init=\"random\",\n",
    "    n_clusters=6,\n",
    "    n_init=10,\n",
    "    max_iter=300,\n",
    "    random_state=42\n",
    ")\n",
    "\n",
    "kmeans.fit(scaled_features)"
   ]
  },
  {
   "cell_type": "code",
   "execution_count": 15,
   "metadata": {},
   "outputs": [
    {
     "ename": "ValueError",
     "evalue": "Expected 2D array, got 1D array instead:\narray=[].\nReshape your data either using array.reshape(-1, 1) if your data has a single feature or array.reshape(1, -1) if it contains a single sample.",
     "output_type": "error",
     "traceback": [
      "\u001b[1;31m---------------------------------------------------------------------------\u001b[0m",
      "\u001b[1;31mValueError\u001b[0m                                Traceback (most recent call last)",
      "\u001b[1;32m<ipython-input-15-f4845fe97459>\u001b[0m in \u001b[0;36m<module>\u001b[1;34m\u001b[0m\n\u001b[1;32m----> 1\u001b[1;33m \u001b[0mkmeans\u001b[0m\u001b[1;33m.\u001b[0m\u001b[0mfit\u001b[0m\u001b[1;33m(\u001b[0m\u001b[0mlist_features\u001b[0m\u001b[1;33m)\u001b[0m\u001b[1;33m\u001b[0m\u001b[1;33m\u001b[0m\u001b[0m\n\u001b[0m",
      "\u001b[1;32mC:\\Anaconda\\lib\\site-packages\\sklearn\\cluster\\k_means_.py\u001b[0m in \u001b[0;36mfit\u001b[1;34m(self, X, y, sample_weight)\u001b[0m\n\u001b[0;32m    969\u001b[0m                 \u001b[0mtol\u001b[0m\u001b[1;33m=\u001b[0m\u001b[0mself\u001b[0m\u001b[1;33m.\u001b[0m\u001b[0mtol\u001b[0m\u001b[1;33m,\u001b[0m \u001b[0mrandom_state\u001b[0m\u001b[1;33m=\u001b[0m\u001b[0mrandom_state\u001b[0m\u001b[1;33m,\u001b[0m \u001b[0mcopy_x\u001b[0m\u001b[1;33m=\u001b[0m\u001b[0mself\u001b[0m\u001b[1;33m.\u001b[0m\u001b[0mcopy_x\u001b[0m\u001b[1;33m,\u001b[0m\u001b[1;33m\u001b[0m\u001b[1;33m\u001b[0m\u001b[0m\n\u001b[0;32m    970\u001b[0m                 \u001b[0mn_jobs\u001b[0m\u001b[1;33m=\u001b[0m\u001b[0mself\u001b[0m\u001b[1;33m.\u001b[0m\u001b[0mn_jobs\u001b[0m\u001b[1;33m,\u001b[0m \u001b[0malgorithm\u001b[0m\u001b[1;33m=\u001b[0m\u001b[0mself\u001b[0m\u001b[1;33m.\u001b[0m\u001b[0malgorithm\u001b[0m\u001b[1;33m,\u001b[0m\u001b[1;33m\u001b[0m\u001b[1;33m\u001b[0m\u001b[0m\n\u001b[1;32m--> 971\u001b[1;33m                 return_n_iter=True)\n\u001b[0m\u001b[0;32m    972\u001b[0m         \u001b[1;32mreturn\u001b[0m \u001b[0mself\u001b[0m\u001b[1;33m\u001b[0m\u001b[1;33m\u001b[0m\u001b[0m\n\u001b[0;32m    973\u001b[0m \u001b[1;33m\u001b[0m\u001b[0m\n",
      "\u001b[1;32mC:\\Anaconda\\lib\\site-packages\\sklearn\\cluster\\k_means_.py\u001b[0m in \u001b[0;36mk_means\u001b[1;34m(X, n_clusters, sample_weight, init, precompute_distances, n_init, max_iter, verbose, tol, random_state, copy_x, n_jobs, algorithm, return_n_iter)\u001b[0m\n\u001b[0;32m    309\u001b[0m     \u001b[0morder\u001b[0m \u001b[1;33m=\u001b[0m \u001b[1;34m\"C\"\u001b[0m \u001b[1;32mif\u001b[0m \u001b[0mcopy_x\u001b[0m \u001b[1;32melse\u001b[0m \u001b[1;32mNone\u001b[0m\u001b[1;33m\u001b[0m\u001b[1;33m\u001b[0m\u001b[0m\n\u001b[0;32m    310\u001b[0m     X = check_array(X, accept_sparse='csr', dtype=[np.float64, np.float32],\n\u001b[1;32m--> 311\u001b[1;33m                     order=order, copy=copy_x)\n\u001b[0m\u001b[0;32m    312\u001b[0m     \u001b[1;31m# verify that the number of samples given is larger than k\u001b[0m\u001b[1;33m\u001b[0m\u001b[1;33m\u001b[0m\u001b[1;33m\u001b[0m\u001b[0m\n\u001b[0;32m    313\u001b[0m     \u001b[1;32mif\u001b[0m \u001b[0m_num_samples\u001b[0m\u001b[1;33m(\u001b[0m\u001b[0mX\u001b[0m\u001b[1;33m)\u001b[0m \u001b[1;33m<\u001b[0m \u001b[0mn_clusters\u001b[0m\u001b[1;33m:\u001b[0m\u001b[1;33m\u001b[0m\u001b[1;33m\u001b[0m\u001b[0m\n",
      "\u001b[1;32mC:\\Anaconda\\lib\\site-packages\\sklearn\\utils\\validation.py\u001b[0m in \u001b[0;36mcheck_array\u001b[1;34m(array, accept_sparse, accept_large_sparse, dtype, order, copy, force_all_finite, ensure_2d, allow_nd, ensure_min_samples, ensure_min_features, warn_on_dtype, estimator)\u001b[0m\n\u001b[0;32m    550\u001b[0m                     \u001b[1;34m\"Reshape your data either using array.reshape(-1, 1) if \"\u001b[0m\u001b[1;33m\u001b[0m\u001b[1;33m\u001b[0m\u001b[0m\n\u001b[0;32m    551\u001b[0m                     \u001b[1;34m\"your data has a single feature or array.reshape(1, -1) \"\u001b[0m\u001b[1;33m\u001b[0m\u001b[1;33m\u001b[0m\u001b[0m\n\u001b[1;32m--> 552\u001b[1;33m                     \"if it contains a single sample.\".format(array))\n\u001b[0m\u001b[0;32m    553\u001b[0m \u001b[1;33m\u001b[0m\u001b[0m\n\u001b[0;32m    554\u001b[0m         \u001b[1;31m# in the future np.flexible dtypes will be handled like object dtypes\u001b[0m\u001b[1;33m\u001b[0m\u001b[1;33m\u001b[0m\u001b[1;33m\u001b[0m\u001b[0m\n",
      "\u001b[1;31mValueError\u001b[0m: Expected 2D array, got 1D array instead:\narray=[].\nReshape your data either using array.reshape(-1, 1) if your data has a single feature or array.reshape(1, -1) if it contains a single sample."
     ]
    }
   ],
   "source": [
    "kmeans.fit(list_features)"
   ]
  },
  {
   "cell_type": "code",
   "execution_count": 47,
   "metadata": {},
   "outputs": [
    {
     "data": {
      "text/plain": [
       "0.0"
      ]
     },
     "execution_count": 47,
     "metadata": {},
     "output_type": "execute_result"
    }
   ],
   "source": [
    "# The lowest SSE value\n",
    "kmeans.inertia_"
   ]
  },
  {
   "cell_type": "code",
   "execution_count": 48,
   "metadata": {},
   "outputs": [
    {
     "data": {
      "text/plain": [
       "array([[0.71, 0.5 , 0.  ],\n",
       "       [0.02, 0.  , 0.99],\n",
       "       [0.11, 0.  , 0.  ],\n",
       "       [0.88, 0.  , 0.16],\n",
       "       [0.8 , 0.12, 0.  ],\n",
       "       [0.81, 0.24, 0.  ]])"
      ]
     },
     "execution_count": 48,
     "metadata": {},
     "output_type": "execute_result"
    }
   ],
   "source": [
    "# Final locations of the centroid\n",
    "kmeans.cluster_centers_"
   ]
  },
  {
   "cell_type": "code",
   "execution_count": 49,
   "metadata": {},
   "outputs": [
    {
     "data": {
      "text/plain": [
       "1"
      ]
     },
     "execution_count": 49,
     "metadata": {},
     "output_type": "execute_result"
    }
   ],
   "source": [
    "# The number of iterations required to converge\n",
    "kmeans.n_iter_"
   ]
  },
  {
   "cell_type": "code",
   "execution_count": 20,
   "metadata": {},
   "outputs": [
    {
     "data": {
      "text/plain": [
       "array([5, 4, 2, 3, 3])"
      ]
     },
     "execution_count": 20,
     "metadata": {},
     "output_type": "execute_result"
    }
   ],
   "source": [
    "kmeans.labels_[:5]"
   ]
  },
  {
   "cell_type": "code",
   "execution_count": 41,
   "metadata": {},
   "outputs": [
    {
     "data": {
      "image/png": "[encoded data removed]",
      "text/plain": [
       "<Figure size 432x288 with 1 Axes>"
      ]
     },
     "metadata": {},
     "output_type": "display_data"
    }
   ],
   "source": [
    "kmeans_kwargs = {\n",
    "    \"init\": \"random\",\n",
    "    \"n_init\": 10,\n",
    "    \"max_iter\": 300,\n",
    "    \"random_state\": 42,\n",
    "}\n",
    "\n",
    "# A list holds the SSE values for each k\n",
    "sse = []\n",
    "for k in range(1, 11):\n",
    "    kmeans = KMeans(n_clusters=k, **kmeans_kwargs)\n",
    "    kmeans.fit(scaled_features)\n",
    "    sse.append(kmeans.inertia_)\n",
    "    \n",
    "plt.style.use(\"fivethirtyeight\")\n",
    "plt.plot(range(1, 11), sse)\n",
    "plt.xticks(range(1, 11))\n",
    "plt.xlabel(\"Number of Clusters\")\n",
    "plt.ylabel(\"SSE\")\n",
    "plt.show()"
   ]
  },
  {
   "cell_type": "code",
   "execution_count": 42,
   "metadata": {},
   "outputs": [
    {
     "data": {
      "text/plain": [
       "3"
      ]
     },
     "execution_count": 42,
     "metadata": {},
     "output_type": "execute_result"
    }
   ],
   "source": [
    "kl = KneeLocator(\n",
    "    range(1, 11), sse, curve=\"convex\", direction=\"decreasing\"\n",
    ")\n",
    "\n",
    "kl.elbow"
   ]
  },
  {
   "cell_type": "code",
   "execution_count": 43,
   "metadata": {},
   "outputs": [],
   "source": [
    "# A list holds the silhouette coefficients for each k\n",
    "silhouette_coefficients = []\n",
    "\n",
    "# Notice you start at 2 clusters for silhouette coefficient\n",
    "for k in range(2, 11):\n",
    "    kmeans = KMeans(n_clusters=k, **kmeans_kwargs)\n",
    "    kmeans.fit(scaled_features)\n",
    "    score = silhouette_score(scaled_features, kmeans.labels_)\n",
    "    silhouette_coefficients.append(score)"
   ]
  },
  {
   "cell_type": "code",
   "execution_count": 44,
   "metadata": {},
   "outputs": [
    {
     "data": {
      "image/png": "[encoded data removed]",
      "text/plain": [
       "<Figure size 432x288 with 1 Axes>"
      ]
     },
     "metadata": {},
     "output_type": "display_data"
    }
   ],
   "source": [
    "plt.style.use(\"fivethirtyeight\")\n",
    "plt.plot(range(2, 11), silhouette_coefficients)\n",
    "plt.xticks(range(2, 11))\n",
    "plt.xlabel(\"Number of Clusters\")\n",
    "plt.ylabel(\"Silhouette Coefficient\")\n",
    "plt.show()"
   ]
  },
  {
   "cell_type": "code",
   "execution_count": null,
   "metadata": {},
   "outputs": [],
   "source": [
    "#Continuar em:\n",
    "#Evaluating Clustering Performance Using Advanced Techniques\n",
    "#https://realpython.com/k-means-clustering-python/\n",
    "\n",
    "#3D KMEANS\n",
    "#https://medium.com/analytics-vidhya/3d-visualization-of-k-means-clustering-47d3d3e82117"
   ]
  }
 ],
 "metadata": {
  "kernelspec": {
   "display_name": "Python 3",
   "language": "python",
   "name": "python3"
  },
  "language_info": {
   "codemirror_mode": {
    "name": "ipython",
    "version": 3
   },
   "file_extension": ".py",
   "mimetype": "text/x-python",
   "name": "python",
   "nbconvert_exporter": "python",
   "pygments_lexer": "ipython3",
   "version": "3.7.3"
  }
 },
 "nbformat": 4,
 "nbformat_minor": 2
}
